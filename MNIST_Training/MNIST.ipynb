{
 "cells": [
  {
   "cell_type": "code",
   "execution_count": 2,
   "id": "e9369b84",
   "metadata": {},
   "outputs": [],
   "source": [
    "import torch\n",
    "from torchvision import datasets, transforms\n",
    "from torch.utils.data import DataLoader, Subset\n",
    "import torch\n",
    "import torch.nn as nn\n",
    "import torch.nn.functional as F"
   ]
  },
  {
   "cell_type": "markdown",
   "id": "afb3f4c8",
   "metadata": {},
   "source": [
    "# 1. 数据预处理"
   ]
  },
  {
   "cell_type": "code",
   "execution_count": 3,
   "id": "4e2ec120-fe36-4aa5-a787-31d5d88091be",
   "metadata": {},
   "outputs": [],
   "source": [
    "transform = transforms.Compose([\n",
    "    transforms.ToTensor(),  \n",
    "    transforms.Normalize((0.1307,), (0.3081,))  # 标准化处理 将图像转为Tensor (范围从0-255变为0-1)\n",
    "])"
   ]
  },
  {
   "cell_type": "markdown",
   "id": "64222a37-46d7-4ee3-850d-1aaeff491143",
   "metadata": {},
   "source": [
    "# 2. 加载MNIST数据"
   ]
  },
  {
   "cell_type": "code",
   "execution_count": 4,
   "id": "816d6be5-95dd-48b5-a376-64e6191373eb",
   "metadata": {},
   "outputs": [],
   "source": [
    "train_dataset = datasets.MNIST(\n",
    "    root='./data',        # 数据存储路径\n",
    "    train=True,           # 加载训练集\n",
    "    download=False,        # 自动下载\n",
    "    transform=transform   # 应用预处理\n",
    ")"
   ]
  },
  {
   "cell_type": "markdown",
   "id": "0ca63dcb-2f6c-4e37-bf35-c01f3d9b81e1",
   "metadata": {},
   "source": [
    "# 3. 提取一部分数据简化训练（前10000个）"
   ]
  },
  {
   "cell_type": "code",
   "execution_count": 5,
   "id": "e1119869-b5fd-4fd1-939f-67058cfe9072",
   "metadata": {},
   "outputs": [],
   "source": [
    "subset_indices = list(range(1000))  # 选择前1000个样本\n",
    "subset_dataset = Subset(train_dataset, subset_indices)"
   ]
  },
  {
   "cell_type": "markdown",
   "id": "a404068d-b6e3-4fb3-893f-bfae2178cc80",
   "metadata": {},
   "source": [
    "# 4. 加载DataLoader"
   ]
  },
  {
   "cell_type": "code",
   "execution_count": 6,
   "id": "4f470747-767e-4290-bedc-2dfef5773497",
   "metadata": {},
   "outputs": [],
   "source": [
    "train_loader = DataLoader(\n",
    "    subset_dataset,\n",
    "    batch_size=32,        # 每批加载32个样本\n",
    "    shuffle=True,         # 训练时打乱数据顺序\n",
    "    num_workers=1         # 使用1个进程加载数据\n",
    ")"
   ]
  },
  {
   "cell_type": "markdown",
   "id": "85723c80-a48e-494f-bbab-265576d1cb66",
   "metadata": {},
   "source": [
    "# 5. 验证数据加载"
   ]
  },
  {
   "cell_type": "code",
   "execution_count": 7,
   "id": "cf291c95-00cf-48b7-9c51-84af33f9c89d",
   "metadata": {},
   "outputs": [
    {
     "name": "stdout",
     "output_type": "stream",
     "text": [
      "批次 1:\n",
      "  数据形状: torch.Size([32, 1, 28, 28]) (批次大小, 通道数, 高度, 宽度)\n",
      "  标签形状: torch.Size([32]) (批次大小)\n",
      "  标签内容: <built-in method tolist of Tensor object at 0x000002DBAAF219A0> (num)\n",
      "批次 2:\n",
      "  数据形状: torch.Size([32, 1, 28, 28]) (批次大小, 通道数, 高度, 宽度)\n",
      "  标签形状: torch.Size([32]) (批次大小)\n",
      "  标签内容: <built-in method tolist of Tensor object at 0x000002DBAAF23D40> (num)\n"
     ]
    }
   ],
   "source": [
    "for batch_idx, (data, target) in enumerate(train_loader):\n",
    "    print(f\"批次 {batch_idx+1}:\")\n",
    "    print(f\"  数据形状: {data.shape} (批次大小, 通道数, 高度, 宽度)\")\n",
    "    print(f\"  标签形状: {target.shape} (批次大小)\")\n",
    "    print(f\"  标签内容: {target.tolist} (num)\") \n",
    "    \n",
    "    if batch_idx == 1:  # 只打印前两个批次\n",
    "        break"
   ]
  },
  {
   "cell_type": "code",
   "execution_count": 8,
   "id": "84c64002-e28d-4e92-b1c3-9acc06976360",
   "metadata": {},
   "outputs": [],
   "source": [
    "class MNISTNet(nn.Module):\n",
    "    def __init__(self):\n",
    "        super().__init__()  # 必须调用父类构造函数\n",
    "        \n",
    "        # 定义网络层结构\n",
    "        self.conv1 = nn.Conv2d(1, 16, kernel_size=3, stride=1, padding=1)\n",
    "        self.pool = nn.MaxPool2d(2, 2)\n",
    "        self.conv2 = nn.Conv2d(16, 32, kernel_size=3, stride=1, padding=1)\n",
    "        self.fc1 = nn.Linear(32 * 7 * 7, 128)  # 注意输入维度的计算\n",
    "        self.fc2 = nn.Linear(128, 10)          # 10个类别（0-9）\n",
    "        \n",
    "    def forward(self, x):\n",
    "        # 第一层卷积+激活+池化\n",
    "        x = self.pool(F.relu(self.conv1(x)))  # 输入: [batch, 1, 28, 28] → 输出: [batch, 16, 14, 14]\n",
    "        \n",
    "        # 第二层卷积+激活+池化\n",
    "        x = self.pool(F.relu(self.conv2(x)))  # 输入: [batch, 16, 14, 14] → 输出: [batch, 32, 7, 7]\n",
    "        \n",
    "        # 展平为一维向量\n",
    "        x = x.view(-1, 32 * 7 * 7)  # 展平后的维度: [batch, 32*7*7]\n",
    "        \n",
    "        # 全连接层\n",
    "        x = F.relu(self.fc1(x))     # 输入: [batch, 1568] → 输出: [batch, 128]\n",
    "        x = self.fc2(x)             # 输入: [batch, 128] → 输出: [batch, 10]\n",
    "        \n",
    "        return x"
   ]
  },
  {
   "cell_type": "code",
   "execution_count": 9,
   "id": "f614202b-a587-4797-82ea-2e5e6f65dcea",
   "metadata": {},
   "outputs": [
    {
     "name": "stdout",
     "output_type": "stream",
     "text": [
      "MNISTNet(\n",
      "  (conv1): Conv2d(1, 16, kernel_size=(3, 3), stride=(1, 1), padding=(1, 1))\n",
      "  (pool): MaxPool2d(kernel_size=2, stride=2, padding=0, dilation=1, ceil_mode=False)\n",
      "  (conv2): Conv2d(16, 32, kernel_size=(3, 3), stride=(1, 1), padding=(1, 1))\n",
      "  (fc1): Linear(in_features=1568, out_features=128, bias=True)\n",
      "  (fc2): Linear(in_features=128, out_features=10, bias=True)\n",
      ")\n"
     ]
    }
   ],
   "source": [
    "# 实例化模型\n",
    "model = MNISTNet()\n",
    "print(model)  # 打印模型结构"
   ]
  },
  {
   "cell_type": "code",
   "execution_count": null,
   "id": "d49c42ee-e9d0-4c67-bdd8-78b093813e4a",
   "metadata": {},
   "outputs": [],
   "source": []
  }
 ],
 "metadata": {
  "kernelspec": {
   "display_name": "Python 3",
   "language": "python",
   "name": "python3"
  },
  "language_info": {
   "codemirror_mode": {
    "name": "ipython",
    "version": 3
   },
   "file_extension": ".py",
   "mimetype": "text/x-python",
   "name": "python",
   "nbconvert_exporter": "python",
   "pygments_lexer": "ipython3",
   "version": "3.13.3"
  }
 },
 "nbformat": 4,
 "nbformat_minor": 5
}
