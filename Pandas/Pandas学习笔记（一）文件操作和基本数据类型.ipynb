{
 "cells": [
  {
   "cell_type": "markdown",
   "id": "072af9cb-cb54-45fa-a7f7-cdf62e7beb3b",
   "metadata": {},
   "source": [
    "# Pandas学习笔记（一）文件操作和基本数据类型\n",
    "\n",
    "## 0. 导入Pandas到项目中"
   ]
  },
  {
   "cell_type": "code",
   "execution_count": 15,
   "id": "fb03e07c-7725-463a-8879-a302e87edd2e",
   "metadata": {},
   "outputs": [],
   "source": [
    "import pandas as pd\n",
    "import numpy as np"
   ]
  },
  {
   "cell_type": "markdown",
   "id": "cd35b3de-fec2-4758-9cd7-c5a13530adcb",
   "metadata": {},
   "source": [
    "你可以通过Pandas中的`__version__`来查看Pandas的版本."
   ]
  },
  {
   "cell_type": "code",
   "execution_count": 16,
   "id": "49b118c7-9d8a-44fa-b87e-a4921cbc6c3f",
   "metadata": {},
   "outputs": [
    {
     "data": {
      "text/plain": [
       "'2.3.1'"
      ]
     },
     "execution_count": 16,
     "metadata": {},
     "output_type": "execute_result"
    }
   ],
   "source": [
    "pd.__version__"
   ]
  },
  {
   "cell_type": "markdown",
   "id": "5ef595dd-05a2-4b53-ad0f-5519006e9e8d",
   "metadata": {},
   "source": [
    "## 1. 读取文件\n",
    "Pandas对基础的文件读取可以使用csv格式和txt格式.\n",
    "\n",
    "**读取CSV文件**\n",
    "读取csv文件后,read_csv()`函数将会返回一个DataFrame对象. 这个DataFrame对象可以被直接打印出来."
   ]
  },
  {
   "cell_type": "code",
   "execution_count": 17,
   "id": "937a92c0-3062-49b3-9cc3-1bb65df40d0e",
   "metadata": {},
   "outputs": [
    {
     "name": "stdout",
     "output_type": "stream",
     "text": [
      "<class 'pandas.core.frame.DataFrame'>\n"
     ]
    }
   ],
   "source": [
    "data_frame = pd.read_csv('data.csv')\n",
    "print(type(data_frame))"
   ]
  },
  {
   "cell_type": "code",
   "execution_count": 18,
   "id": "60166c68-bf28-44c9-a007-9a1ff9af2677",
   "metadata": {},
   "outputs": [
    {
     "name": "stdout",
     "output_type": "stream",
     "text": [
      "      Name  Age       City\n",
      "0    Alice   25   New York\n",
      "1      Bob   30     London\n",
      "2  Charlie   35      Paris\n",
      "3      Ann   28     Peking\n",
      "4     Jack   22      Tokyo\n",
      "5    Angle   33   Shanghai\n",
      "6      Sue   20  Hong Kong\n"
     ]
    }
   ],
   "source": [
    "print(data_frame)"
   ]
  },
  {
   "cell_type": "markdown",
   "id": "35c2e055-3b72-4461-83b4-f3ba19e201e7",
   "metadata": {},
   "source": [
    "**读取TXT/TSV文件** 同样的,你可使用`read_table()`来读取txt或者tsv文件."
   ]
  },
  {
   "cell_type": "code",
   "execution_count": 19,
   "id": "83ceae81-6d54-4b93-a73e-9d267d1d041d",
   "metadata": {},
   "outputs": [
    {
     "name": "stdout",
     "output_type": "stream",
     "text": [
      "   id     name  age  gender  score\n",
      "0   1    Alice   30  Female   88.5\n",
      "1   2      Bob   25    Male   92.0\n",
      "2   3  Charlie   28    Male   76.5\n",
      "3   4    Diana   32  Female   95.0\n",
      "4   5    Ethan   24    Male   85.0\n",
      "5   6    Fiona   29  Female   90.5\n",
      "6   7   George   35    Male   80.0\n",
      "7   8   Hannah   27  Female   89.0\n",
      "8   9      Ian   31    Male   78.5\n",
      "9  10    Julia   26  Female   93.0\n"
     ]
    }
   ],
   "source": [
    "data = pd.read_table('data.tsv')\n",
    "print(data)"
   ]
  },
  {
   "cell_type": "markdown",
   "id": "8efb2c09-f239-4d70-b8f9-dd0b7334f113",
   "metadata": {},
   "source": [
    "**读取XLSX/XLS文件** 同样的，Pandas还可以读取xlsx和xls文件,但你需要另外安装xlrd包.\n",
    "`pip install xlrd openpyxl`安装这两个包可以让你准确处理Excel 2000以后版本的大多数文件。\n",
    "使用`read_excel()`的函数方法与上面的内容基本相同，在这里就不加赘述了。"
   ]
  },
  {
   "cell_type": "markdown",
   "id": "b1d057dd",
   "metadata": {},
   "source": [
    "## 2. 写入文件\n",
    "\n",
    "**写入CSV文件** 你可以将DataFrame的对象直接写入CSV文件之中."
   ]
  },
  {
   "cell_type": "code",
   "execution_count": 20,
   "id": "ab805f0e",
   "metadata": {},
   "outputs": [],
   "source": [
    "data_frame.to_csv('data.csv', index=False) #index=False这个参数可以去掉行索引"
   ]
  },
  {
   "cell_type": "markdown",
   "id": "dd1b1d32",
   "metadata": {},
   "source": [
    "**写入XLSX/XLS文件** 在安装了openpyxl的包以后你同样可以将DataFrame写入Excel文件中."
   ]
  },
  {
   "cell_type": "code",
   "execution_count": 21,
   "id": "f4114059",
   "metadata": {},
   "outputs": [],
   "source": [
    "data_frame.to_excel('data.xlsx', index=False)"
   ]
  },
  {
   "cell_type": "markdown",
   "id": "f7540f7f",
   "metadata": {},
   "source": [
    "这下面的是`to_csv()`函数的常用参数:\n",
    "```Python\n",
    "df.to_csv(\n",
    "    'output.csv',           # 文件名\n",
    "    sep=',',                # 分隔符\n",
    "    na_rep='NULL',          # 缺失值替换为NULL\n",
    "    header=True,            # 包含列名\n",
    "    index=False,            # 不包含行索引\n",
    "    encoding='utf-8',       # 编码方式\n",
    "    mode='w',               # 写入模式，覆盖已有文件\n",
    "    date_format='%Y-%m-%d', # 日期格式\n",
    "    decimal='.',            # 小数点符号\n",
    "    line_terminator='\\n'    # 行结束符\n",
    ")\n",
    "```"
   ]
  }
 ],
 "metadata": {
  "kernelspec": {
   "display_name": "Python 3",
   "language": "python",
   "name": "python3"
  },
  "language_info": {
   "codemirror_mode": {
    "name": "ipython",
    "version": 3
   },
   "file_extension": ".py",
   "mimetype": "text/x-python",
   "name": "python",
   "nbconvert_exporter": "python",
   "pygments_lexer": "ipython3",
   "version": "3.13.3"
  }
 },
 "nbformat": 4,
 "nbformat_minor": 5
}
