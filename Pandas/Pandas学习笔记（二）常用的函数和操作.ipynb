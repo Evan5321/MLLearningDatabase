{
 "cells": [
  {
   "cell_type": "markdown",
   "id": "3f26cab1",
   "metadata": {},
   "source": [
    "# Pandas学习笔记（二） 常用的函数和操作\n",
    "在上一章当中我们已经介绍了 Series 和 DataFrame 两种基本数据类型。其实，在 Pandas 中对于这两种数据类型我们还有很多常见的方法和操作需要需要学习，接下来我们一一介绍。"
   ]
  },
  {
   "cell_type": "code",
   "execution_count": 29,
   "id": "dc8837b7",
   "metadata": {},
   "outputs": [],
   "source": [
    "import pandas as pd\n",
    "import numpy as np"
   ]
  },
  {
   "cell_type": "markdown",
   "id": "bc6ccd52",
   "metadata": {},
   "source": [
    "## 访问Series的属性\n",
    "在定义一个Series时我们，还可以为它加上值（values），索引（index），名字（name），类型（dtype）等多种属性。"
   ]
  },
  {
   "cell_type": "code",
   "execution_count": 30,
   "id": "01b1d554",
   "metadata": {},
   "outputs": [],
   "source": [
    "s = pd.Series(np.random.randn(5),index=['a','b','c','d','e'],name='这是一个Series',dtype='float64')"
   ]
  },
  {
   "cell_type": "markdown",
   "id": "613677e9",
   "metadata": {},
   "source": [
    "###  **访问Series的属性**\n",
    "然后我们可以直接使用`s` `s.values` `s.name`等操作来直接访问这个Series的属性。"
   ]
  },
  {
   "cell_type": "code",
   "execution_count": 31,
   "id": "1fa32445",
   "metadata": {},
   "outputs": [
    {
     "data": {
      "application/vnd.microsoft.datawrangler.viewer.v0+json": {
       "columns": [
        {
         "name": "index",
         "rawType": "object",
         "type": "string"
        },
        {
         "name": "这是一个Series",
         "rawType": "float64",
         "type": "float"
        }
       ],
       "ref": "fedc72d3-7a52-49de-84bd-8eef2042105f",
       "rows": [
        [
         "a",
         "-1.7901990798394576"
        ],
        [
         "b",
         "-0.9779735680602926"
        ],
        [
         "c",
         "0.36033759335375354"
        ],
        [
         "d",
         "0.7319458636866827"
        ],
        [
         "e",
         "0.3609965057697582"
        ]
       ],
       "shape": {
        "columns": 1,
        "rows": 5
       }
      },
      "text/plain": [
       "a   -1.790199\n",
       "b   -0.977974\n",
       "c    0.360338\n",
       "d    0.731946\n",
       "e    0.360997\n",
       "Name: 这是一个Series, dtype: float64"
      ]
     },
     "execution_count": 31,
     "metadata": {},
     "output_type": "execute_result"
    }
   ],
   "source": [
    "s"
   ]
  },
  {
   "cell_type": "code",
   "execution_count": 32,
   "id": "fcf549f4",
   "metadata": {},
   "outputs": [
    {
     "data": {
      "text/plain": [
       "'这是一个Series'"
      ]
     },
     "execution_count": 32,
     "metadata": {},
     "output_type": "execute_result"
    }
   ],
   "source": [
    "s.name"
   ]
  },
  {
   "cell_type": "code",
   "execution_count": 33,
   "id": "1a55a989",
   "metadata": {},
   "outputs": [
    {
     "data": {
      "text/plain": [
       "array([-1.79019908, -0.97797357,  0.36033759,  0.73194586,  0.36099651])"
      ]
     },
     "execution_count": 33,
     "metadata": {},
     "output_type": "execute_result"
    }
   ],
   "source": [
    "s.values"
   ]
  },
  {
   "cell_type": "code",
   "execution_count": 34,
   "id": "bb1ba988",
   "metadata": {},
   "outputs": [
    {
     "data": {
      "text/plain": [
       "Index(['a', 'b', 'c', 'd', 'e'], dtype='object')"
      ]
     },
     "execution_count": 34,
     "metadata": {},
     "output_type": "execute_result"
    }
   ],
   "source": [
    "s.index"
   ]
  },
  {
   "cell_type": "code",
   "execution_count": 35,
   "id": "b2e63035",
   "metadata": {},
   "outputs": [
    {
     "data": {
      "text/plain": [
       "dtype('float64')"
      ]
     },
     "execution_count": 35,
     "metadata": {},
     "output_type": "execute_result"
    }
   ],
   "source": [
    "s.dtype"
   ]
  },
  {
   "cell_type": "markdown",
   "id": "f41d51f5",
   "metadata": {},
   "source": [
    "### 访问Series中的某个特定数据\n",
    "若我们希望访问Series中的一个特定数据，我们可以通过它的索引来访问。"
   ]
  },
  {
   "cell_type": "code",
   "execution_count": 36,
   "id": "68a883e8",
   "metadata": {},
   "outputs": [
    {
     "data": {
      "text/plain": [
       "np.float64(-1.7901990798394576)"
      ]
     },
     "execution_count": 36,
     "metadata": {},
     "output_type": "execute_result"
    }
   ],
   "source": [
    "s['a']"
   ]
  },
  {
   "cell_type": "markdown",
   "id": "47d08ea5",
   "metadata": {},
   "source": [
    "## 访问DataFrame的属性\n"
   ]
  },
  {
   "cell_type": "markdown",
   "id": "afbe7aa6",
   "metadata": {},
   "source": [
    "我们先来定义一个DataFrame。"
   ]
  },
  {
   "cell_type": "code",
   "execution_count": 37,
   "id": "b8c3c15d",
   "metadata": {},
   "outputs": [],
   "source": [
    "df = pd.DataFrame({'name': ['Ann','Jack','Miow','Sue','Albert'],'age':[19,20,34,21,11],'num':range(0,5)},index=list('ABCDE'))"
   ]
  },
  {
   "cell_type": "markdown",
   "id": "74b50471",
   "metadata": {},
   "source": [
    "### **按名字访问DataFrame的某一列**\n",
    "若你希望访问DataFrame中的某一列，你可以直接用列的名字来访问。当你这样访问时，这返回的是一个Series对象。"
   ]
  },
  {
   "cell_type": "code",
   "execution_count": 38,
   "id": "e0e7b836",
   "metadata": {},
   "outputs": [
    {
     "name": "stdout",
     "output_type": "stream",
     "text": [
      "A       Ann\n",
      "B      Jack\n",
      "C      Miow\n",
      "D       Sue\n",
      "E    Albert\n",
      "Name: name, dtype: object\n",
      "<class 'pandas.core.series.Series'>\n"
     ]
    }
   ],
   "source": [
    "print(df['name'])\n",
    "print(type(df['name']))"
   ]
  },
  {
   "cell_type": "markdown",
   "id": "66fd2bde",
   "metadata": {},
   "source": [
    "### **修改DataFrame某一列或某一行的名称**\n",
    "使用`rename()`操作即可修改DataFrame某一行或某一列的名称。修改的内容应为一个字典`{'原内容':'新内容'}`"
   ]
  },
  {
   "cell_type": "code",
   "execution_count": 39,
   "id": "1c83bcc2",
   "metadata": {},
   "outputs": [
    {
     "data": {
      "application/vnd.microsoft.datawrangler.viewer.v0+json": {
       "columns": [
        {
         "name": "index",
         "rawType": "object",
         "type": "string"
        },
        {
         "name": "name",
         "rawType": "object",
         "type": "string"
        },
        {
         "name": "age",
         "rawType": "int64",
         "type": "integer"
        },
        {
         "name": "num",
         "rawType": "int64",
         "type": "integer"
        }
       ],
       "ref": "2a02e8ce-3772-48d5-82f6-d5632f135c54",
       "rows": [
        [
         "A",
         "Ann",
         "19",
         "0"
        ],
        [
         "B",
         "Jack",
         "20",
         "1"
        ],
        [
         "C",
         "Miow",
         "34",
         "2"
        ],
        [
         "D",
         "Sue",
         "21",
         "3"
        ],
        [
         "E",
         "Albert",
         "11",
         "4"
        ]
       ],
       "shape": {
        "columns": 3,
        "rows": 5
       }
      },
      "text/html": [
       "<div>\n",
       "<style scoped>\n",
       "    .dataframe tbody tr th:only-of-type {\n",
       "        vertical-align: middle;\n",
       "    }\n",
       "\n",
       "    .dataframe tbody tr th {\n",
       "        vertical-align: top;\n",
       "    }\n",
       "\n",
       "    .dataframe thead th {\n",
       "        text-align: right;\n",
       "    }\n",
       "</style>\n",
       "<table border=\"1\" class=\"dataframe\">\n",
       "  <thead>\n",
       "    <tr style=\"text-align: right;\">\n",
       "      <th></th>\n",
       "      <th>name</th>\n",
       "      <th>age</th>\n",
       "      <th>num</th>\n",
       "    </tr>\n",
       "  </thead>\n",
       "  <tbody>\n",
       "    <tr>\n",
       "      <th>A</th>\n",
       "      <td>Ann</td>\n",
       "      <td>19</td>\n",
       "      <td>0</td>\n",
       "    </tr>\n",
       "    <tr>\n",
       "      <th>B</th>\n",
       "      <td>Jack</td>\n",
       "      <td>20</td>\n",
       "      <td>1</td>\n",
       "    </tr>\n",
       "    <tr>\n",
       "      <th>C</th>\n",
       "      <td>Miow</td>\n",
       "      <td>34</td>\n",
       "      <td>2</td>\n",
       "    </tr>\n",
       "    <tr>\n",
       "      <th>D</th>\n",
       "      <td>Sue</td>\n",
       "      <td>21</td>\n",
       "      <td>3</td>\n",
       "    </tr>\n",
       "    <tr>\n",
       "      <th>E</th>\n",
       "      <td>Albert</td>\n",
       "      <td>11</td>\n",
       "      <td>4</td>\n",
       "    </tr>\n",
       "  </tbody>\n",
       "</table>\n",
       "</div>"
      ],
      "text/plain": [
       "     name  age  num\n",
       "A     Ann   19    0\n",
       "B    Jack   20    1\n",
       "C    Miow   34    2\n",
       "D     Sue   21    3\n",
       "E  Albert   11    4"
      ]
     },
     "execution_count": 39,
     "metadata": {},
     "output_type": "execute_result"
    }
   ],
   "source": [
    "df"
   ]
  },
  {
   "cell_type": "code",
   "execution_count": 40,
   "id": "fa88b2fb",
   "metadata": {},
   "outputs": [
    {
     "data": {
      "application/vnd.microsoft.datawrangler.viewer.v0+json": {
       "columns": [
        {
         "name": "index",
         "rawType": "object",
         "type": "string"
        },
        {
         "name": "name",
         "rawType": "object",
         "type": "string"
        },
        {
         "name": "AGE",
         "rawType": "int64",
         "type": "integer"
        },
        {
         "name": "num",
         "rawType": "int64",
         "type": "integer"
        }
       ],
       "ref": "ec023f3e-e44f-44a7-8a8b-06fabfc94b24",
       "rows": [
        [
         "The First Row",
         "Ann",
         "19",
         "0"
        ],
        [
         "B",
         "Jack",
         "20",
         "1"
        ],
        [
         "C",
         "Miow",
         "34",
         "2"
        ],
        [
         "D",
         "Sue",
         "21",
         "3"
        ],
        [
         "E",
         "Albert",
         "11",
         "4"
        ]
       ],
       "shape": {
        "columns": 3,
        "rows": 5
       }
      },
      "text/html": [
       "<div>\n",
       "<style scoped>\n",
       "    .dataframe tbody tr th:only-of-type {\n",
       "        vertical-align: middle;\n",
       "    }\n",
       "\n",
       "    .dataframe tbody tr th {\n",
       "        vertical-align: top;\n",
       "    }\n",
       "\n",
       "    .dataframe thead th {\n",
       "        text-align: right;\n",
       "    }\n",
       "</style>\n",
       "<table border=\"1\" class=\"dataframe\">\n",
       "  <thead>\n",
       "    <tr style=\"text-align: right;\">\n",
       "      <th></th>\n",
       "      <th>name</th>\n",
       "      <th>AGE</th>\n",
       "      <th>num</th>\n",
       "    </tr>\n",
       "  </thead>\n",
       "  <tbody>\n",
       "    <tr>\n",
       "      <th>The First Row</th>\n",
       "      <td>Ann</td>\n",
       "      <td>19</td>\n",
       "      <td>0</td>\n",
       "    </tr>\n",
       "    <tr>\n",
       "      <th>B</th>\n",
       "      <td>Jack</td>\n",
       "      <td>20</td>\n",
       "      <td>1</td>\n",
       "    </tr>\n",
       "    <tr>\n",
       "      <th>C</th>\n",
       "      <td>Miow</td>\n",
       "      <td>34</td>\n",
       "      <td>2</td>\n",
       "    </tr>\n",
       "    <tr>\n",
       "      <th>D</th>\n",
       "      <td>Sue</td>\n",
       "      <td>21</td>\n",
       "      <td>3</td>\n",
       "    </tr>\n",
       "    <tr>\n",
       "      <th>E</th>\n",
       "      <td>Albert</td>\n",
       "      <td>11</td>\n",
       "      <td>4</td>\n",
       "    </tr>\n",
       "  </tbody>\n",
       "</table>\n",
       "</div>"
      ],
      "text/plain": [
       "                 name  AGE  num\n",
       "The First Row     Ann   19    0\n",
       "B                Jack   20    1\n",
       "C                Miow   34    2\n",
       "D                 Sue   21    3\n",
       "E              Albert   11    4"
      ]
     },
     "execution_count": 40,
     "metadata": {},
     "output_type": "execute_result"
    }
   ],
   "source": [
    "df.rename(index={'A':'The First Row'},columns={'age':'AGE'})"
   ]
  },
  {
   "cell_type": "markdown",
   "id": "c31d00d3",
   "metadata": {},
   "source": [
    "### 访问DataFrame的属性\n",
    "访问DataFrame的属性方法同访问Series时一样。你可以访问DataFrame的值（values），索引（index），形状（shape），某一列或行的类型（dtype）"
   ]
  },
  {
   "cell_type": "code",
   "execution_count": null,
   "id": "0b19fad1",
   "metadata": {},
   "outputs": [],
   "source": []
  },
  {
   "cell_type": "code",
   "execution_count": null,
   "id": "43c34891",
   "metadata": {},
   "outputs": [],
   "source": []
  }
 ],
 "metadata": {
  "kernelspec": {
   "display_name": "Python 3",
   "language": "python",
   "name": "python3"
  },
  "language_info": {
   "codemirror_mode": {
    "name": "ipython",
    "version": 3
   },
   "file_extension": ".py",
   "mimetype": "text/x-python",
   "name": "python",
   "nbconvert_exporter": "python",
   "pygments_lexer": "ipython3",
   "version": "3.13.3"
  }
 },
 "nbformat": 4,
 "nbformat_minor": 5
}
